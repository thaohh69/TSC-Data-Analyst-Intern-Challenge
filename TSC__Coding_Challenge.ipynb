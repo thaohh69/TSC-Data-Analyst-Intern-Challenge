{
  "nbformat": 4,
  "nbformat_minor": 0,
  "metadata": {
    "colab": {
      "name": "TSC_ Coding_Challenge",
      "provenance": [],
      "collapsed_sections": []
    },
    "kernelspec": {
      "name": "python3",
      "display_name": "Python 3"
    }
  },
  "cells": [
    {
      "cell_type": "markdown",
      "metadata": {
        "id": "NVB17Rx2IFWk",
        "colab_type": "text"
      },
      "source": [
        "#**The Shortcut Challenges: Data Analyst Intern**\n"
      ]
    },
    {
      "cell_type": "markdown",
      "metadata": {
        "id": "KJgTJSUGV6B8",
        "colab_type": "text"
      },
      "source": [
        "#Numpy Challenge "
      ]
    },
    {
      "cell_type": "markdown",
      "metadata": {
        "id": "mgH_Fr4bWE9j",
        "colab_type": "text"
      },
      "source": [
        "How would compute the row wise counts of all possible values in an array as in - compete the counts of unique values row-wise?"
      ]
    },
    {
      "cell_type": "code",
      "metadata": {
        "id": "lWEucZHtIMip",
        "colab_type": "code",
        "colab": {}
      },
      "source": [
        "#importing libraries\n",
        "\n",
        "import pandas as pd\n",
        "import numpy as np\n",
        "\n"
      ],
      "execution_count": 0,
      "outputs": []
    },
    {
      "cell_type": "code",
      "metadata": {
        "id": "stz-ksE5KzNa",
        "colab_type": "code",
        "outputId": "01bb11de-4246-4047-cab0-e03d4a8ce839",
        "colab": {
          "base_uri": "https://localhost:8080/",
          "height": 119
        }
      },
      "source": [
        "np.random.seed(100)\n",
        "arr = np.random.randint(1,11,size=(6, 10))\n",
        "arr"
      ],
      "execution_count": 36,
      "outputs": [
        {
          "output_type": "execute_result",
          "data": {
            "text/plain": [
              "array([[ 9,  9,  4,  8,  8,  1,  5,  3,  6,  3],\n",
              "       [ 3,  3,  2,  1,  9,  5,  1, 10,  7,  3],\n",
              "       [ 5,  2,  6,  4,  5,  5,  4,  8,  2,  2],\n",
              "       [ 8,  8,  1,  3, 10, 10,  4,  3,  6,  9],\n",
              "       [ 2,  1,  8,  7,  3,  1,  9,  3,  6,  2],\n",
              "       [ 9,  2,  6,  5,  3,  9,  4,  6,  1, 10]])"
            ]
          },
          "metadata": {
            "tags": []
          },
          "execution_count": 36
        }
      ]
    },
    {
      "cell_type": "code",
      "metadata": {
        "id": "8xULyLa2XDjf",
        "colab_type": "code",
        "colab": {
          "base_uri": "https://localhost:8080/",
          "height": 119
        },
        "outputId": "32fca169-6680-42c6-abc8-d8c6083b945a"
      },
      "source": [
        "count_result = []\n",
        "for row in arr:\n",
        "  count_row = []\n",
        "  for number in range(1,11):\n",
        "    count_row.append(np.count_nonzero(row==number))\n",
        "  count_result.append(count_row)\n",
        "count_result"
      ],
      "execution_count": 37,
      "outputs": [
        {
          "output_type": "execute_result",
          "data": {
            "text/plain": [
              "[[1, 0, 2, 1, 1, 1, 0, 2, 2, 0],\n",
              " [2, 1, 3, 0, 1, 0, 1, 0, 1, 1],\n",
              " [0, 3, 0, 2, 3, 1, 0, 1, 0, 0],\n",
              " [1, 0, 2, 1, 0, 1, 0, 2, 1, 2],\n",
              " [2, 2, 2, 0, 0, 1, 1, 1, 1, 0],\n",
              " [1, 1, 1, 1, 1, 2, 0, 0, 2, 1]]"
            ]
          },
          "metadata": {
            "tags": []
          },
          "execution_count": 37
        }
      ]
    },
    {
      "cell_type": "markdown",
      "metadata": {
        "id": "tBnTTN3Y4-1C",
        "colab_type": "text"
      },
      "source": [
        "#Pandas Challenge"
      ]
    },
    {
      "cell_type": "code",
      "metadata": {
        "id": "ggvwDTz75BfT",
        "colab_type": "code",
        "outputId": "331114ff-8856-4413-b5a9-c18d196896f4",
        "colab": {
          "base_uri": "https://localhost:8080/",
          "height": 204
        }
      },
      "source": [
        "#Load dataset\n",
        "df = pd.read_csv('https://raw.githubusercontent.com/selva86/datasets/master/Cars93_miss.csv',usecols= [0,1,2,3,5])\n",
        "\n",
        "# Take a look at the first few rows\n",
        "df.head(5)\n",
        "\n"
      ],
      "execution_count": 38,
      "outputs": [
        {
          "output_type": "execute_result",
          "data": {
            "text/html": [
              "<div>\n",
              "<style scoped>\n",
              "    .dataframe tbody tr th:only-of-type {\n",
              "        vertical-align: middle;\n",
              "    }\n",
              "\n",
              "    .dataframe tbody tr th {\n",
              "        vertical-align: top;\n",
              "    }\n",
              "\n",
              "    .dataframe thead th {\n",
              "        text-align: right;\n",
              "    }\n",
              "</style>\n",
              "<table border=\"1\" class=\"dataframe\">\n",
              "  <thead>\n",
              "    <tr style=\"text-align: right;\">\n",
              "      <th></th>\n",
              "      <th>Manufacturer</th>\n",
              "      <th>Model</th>\n",
              "      <th>Type</th>\n",
              "      <th>Min.Price</th>\n",
              "      <th>Max.Price</th>\n",
              "    </tr>\n",
              "  </thead>\n",
              "  <tbody>\n",
              "    <tr>\n",
              "      <th>0</th>\n",
              "      <td>Acura</td>\n",
              "      <td>Integra</td>\n",
              "      <td>Small</td>\n",
              "      <td>12.9</td>\n",
              "      <td>18.8</td>\n",
              "    </tr>\n",
              "    <tr>\n",
              "      <th>1</th>\n",
              "      <td>NaN</td>\n",
              "      <td>Legend</td>\n",
              "      <td>Midsize</td>\n",
              "      <td>29.2</td>\n",
              "      <td>38.7</td>\n",
              "    </tr>\n",
              "    <tr>\n",
              "      <th>2</th>\n",
              "      <td>Audi</td>\n",
              "      <td>90</td>\n",
              "      <td>Compact</td>\n",
              "      <td>25.9</td>\n",
              "      <td>32.3</td>\n",
              "    </tr>\n",
              "    <tr>\n",
              "      <th>3</th>\n",
              "      <td>Audi</td>\n",
              "      <td>100</td>\n",
              "      <td>Midsize</td>\n",
              "      <td>NaN</td>\n",
              "      <td>44.6</td>\n",
              "    </tr>\n",
              "    <tr>\n",
              "      <th>4</th>\n",
              "      <td>BMW</td>\n",
              "      <td>535i</td>\n",
              "      <td>Midsize</td>\n",
              "      <td>NaN</td>\n",
              "      <td>NaN</td>\n",
              "    </tr>\n",
              "  </tbody>\n",
              "</table>\n",
              "</div>"
            ],
            "text/plain": [
              "  Manufacturer    Model     Type  Min.Price  Max.Price\n",
              "0        Acura  Integra    Small       12.9       18.8\n",
              "1          NaN   Legend  Midsize       29.2       38.7\n",
              "2         Audi       90  Compact       25.9       32.3\n",
              "3         Audi      100  Midsize        NaN       44.6\n",
              "4          BMW     535i  Midsize        NaN        NaN"
            ]
          },
          "metadata": {
            "tags": []
          },
          "execution_count": 38
        }
      ]
    },
    {
      "cell_type": "code",
      "metadata": {
        "id": "V5GLPgCr69DS",
        "colab_type": "code",
        "outputId": "40d7e8b5-7b7f-46da-fe59-7a606872214e",
        "colab": {
          "base_uri": "https://localhost:8080/",
          "height": 119
        }
      },
      "source": [
        "#Inspect null values\n",
        "df.isnull().sum()"
      ],
      "execution_count": 39,
      "outputs": [
        {
          "output_type": "execute_result",
          "data": {
            "text/plain": [
              "Manufacturer    4\n",
              "Model           1\n",
              "Type            3\n",
              "Min.Price       7\n",
              "Max.Price       5\n",
              "dtype: int64"
            ]
          },
          "metadata": {
            "tags": []
          },
          "execution_count": 39
        }
      ]
    },
    {
      "cell_type": "code",
      "metadata": {
        "id": "ShP_rIQqF39h",
        "colab_type": "code",
        "colab": {}
      },
      "source": [
        "# Replace 'NaN' values with string 'missing'\n",
        "df=df[['Manufacturer', 'Model', 'Type']].apply(lambda x: x.fillna('missing'))"
      ],
      "execution_count": 0,
      "outputs": []
    },
    {
      "cell_type": "code",
      "metadata": {
        "id": "r3xxbgFqFhV5",
        "colab_type": "code",
        "outputId": "f9fea238-ad84-42f5-ba6e-6484f148d0e5",
        "colab": {
          "base_uri": "https://localhost:8080/",
          "height": 85
        }
      },
      "source": [
        "# Total missing values for each feature\n",
        "df.isnull().sum()"
      ],
      "execution_count": 42,
      "outputs": [
        {
          "output_type": "execute_result",
          "data": {
            "text/plain": [
              "Manufacturer    0\n",
              "Model           0\n",
              "Type            0\n",
              "dtype: int64"
            ]
          },
          "metadata": {
            "tags": []
          },
          "execution_count": 42
        }
      ]
    },
    {
      "cell_type": "code",
      "metadata": {
        "id": "FCVDGZrKMiAu",
        "colab_type": "code",
        "outputId": "4caa3354-3ea0-46b6-c42c-129ae23dfc88",
        "colab": {
          "base_uri": "https://localhost:8080/",
          "height": 669
        }
      },
      "source": [
        "df.head(20)"
      ],
      "execution_count": 43,
      "outputs": [
        {
          "output_type": "execute_result",
          "data": {
            "text/html": [
              "<div>\n",
              "<style scoped>\n",
              "    .dataframe tbody tr th:only-of-type {\n",
              "        vertical-align: middle;\n",
              "    }\n",
              "\n",
              "    .dataframe tbody tr th {\n",
              "        vertical-align: top;\n",
              "    }\n",
              "\n",
              "    .dataframe thead th {\n",
              "        text-align: right;\n",
              "    }\n",
              "</style>\n",
              "<table border=\"1\" class=\"dataframe\">\n",
              "  <thead>\n",
              "    <tr style=\"text-align: right;\">\n",
              "      <th></th>\n",
              "      <th>Manufacturer</th>\n",
              "      <th>Model</th>\n",
              "      <th>Type</th>\n",
              "    </tr>\n",
              "  </thead>\n",
              "  <tbody>\n",
              "    <tr>\n",
              "      <th>0</th>\n",
              "      <td>Acura</td>\n",
              "      <td>Integra</td>\n",
              "      <td>Small</td>\n",
              "    </tr>\n",
              "    <tr>\n",
              "      <th>1</th>\n",
              "      <td>missing</td>\n",
              "      <td>Legend</td>\n",
              "      <td>Midsize</td>\n",
              "    </tr>\n",
              "    <tr>\n",
              "      <th>2</th>\n",
              "      <td>Audi</td>\n",
              "      <td>90</td>\n",
              "      <td>Compact</td>\n",
              "    </tr>\n",
              "    <tr>\n",
              "      <th>3</th>\n",
              "      <td>Audi</td>\n",
              "      <td>100</td>\n",
              "      <td>Midsize</td>\n",
              "    </tr>\n",
              "    <tr>\n",
              "      <th>4</th>\n",
              "      <td>BMW</td>\n",
              "      <td>535i</td>\n",
              "      <td>Midsize</td>\n",
              "    </tr>\n",
              "    <tr>\n",
              "      <th>5</th>\n",
              "      <td>Buick</td>\n",
              "      <td>Century</td>\n",
              "      <td>Midsize</td>\n",
              "    </tr>\n",
              "    <tr>\n",
              "      <th>6</th>\n",
              "      <td>Buick</td>\n",
              "      <td>LeSabre</td>\n",
              "      <td>Large</td>\n",
              "    </tr>\n",
              "    <tr>\n",
              "      <th>7</th>\n",
              "      <td>Buick</td>\n",
              "      <td>Roadmaster</td>\n",
              "      <td>Large</td>\n",
              "    </tr>\n",
              "    <tr>\n",
              "      <th>8</th>\n",
              "      <td>Buick</td>\n",
              "      <td>Riviera</td>\n",
              "      <td>Midsize</td>\n",
              "    </tr>\n",
              "    <tr>\n",
              "      <th>9</th>\n",
              "      <td>Cadillac</td>\n",
              "      <td>DeVille</td>\n",
              "      <td>Large</td>\n",
              "    </tr>\n",
              "    <tr>\n",
              "      <th>10</th>\n",
              "      <td>Cadillac</td>\n",
              "      <td>Seville</td>\n",
              "      <td>Midsize</td>\n",
              "    </tr>\n",
              "    <tr>\n",
              "      <th>11</th>\n",
              "      <td>Chevrolet</td>\n",
              "      <td>Cavalier</td>\n",
              "      <td>Compact</td>\n",
              "    </tr>\n",
              "    <tr>\n",
              "      <th>12</th>\n",
              "      <td>Chevrolet</td>\n",
              "      <td>Corsica</td>\n",
              "      <td>Compact</td>\n",
              "    </tr>\n",
              "    <tr>\n",
              "      <th>13</th>\n",
              "      <td>Chevrolet</td>\n",
              "      <td>Camaro</td>\n",
              "      <td>Sporty</td>\n",
              "    </tr>\n",
              "    <tr>\n",
              "      <th>14</th>\n",
              "      <td>Chevrolet</td>\n",
              "      <td>Lumina</td>\n",
              "      <td>Midsize</td>\n",
              "    </tr>\n",
              "    <tr>\n",
              "      <th>15</th>\n",
              "      <td>Chevrolet</td>\n",
              "      <td>Lumina_APV</td>\n",
              "      <td>Van</td>\n",
              "    </tr>\n",
              "    <tr>\n",
              "      <th>16</th>\n",
              "      <td>Chevrolet</td>\n",
              "      <td>Astro</td>\n",
              "      <td>Van</td>\n",
              "    </tr>\n",
              "    <tr>\n",
              "      <th>17</th>\n",
              "      <td>Chevrolet</td>\n",
              "      <td>Caprice</td>\n",
              "      <td>Large</td>\n",
              "    </tr>\n",
              "    <tr>\n",
              "      <th>18</th>\n",
              "      <td>Chevrolet</td>\n",
              "      <td>Corvette</td>\n",
              "      <td>Sporty</td>\n",
              "    </tr>\n",
              "    <tr>\n",
              "      <th>19</th>\n",
              "      <td>missing</td>\n",
              "      <td>Concorde</td>\n",
              "      <td>Large</td>\n",
              "    </tr>\n",
              "  </tbody>\n",
              "</table>\n",
              "</div>"
            ],
            "text/plain": [
              "   Manufacturer       Model     Type\n",
              "0         Acura     Integra    Small\n",
              "1       missing      Legend  Midsize\n",
              "2          Audi          90  Compact\n",
              "3          Audi         100  Midsize\n",
              "4           BMW        535i  Midsize\n",
              "5         Buick     Century  Midsize\n",
              "6         Buick     LeSabre    Large\n",
              "7         Buick  Roadmaster    Large\n",
              "8         Buick     Riviera  Midsize\n",
              "9      Cadillac     DeVille    Large\n",
              "10     Cadillac     Seville  Midsize\n",
              "11    Chevrolet    Cavalier  Compact\n",
              "12    Chevrolet     Corsica  Compact\n",
              "13    Chevrolet      Camaro   Sporty\n",
              "14    Chevrolet      Lumina  Midsize\n",
              "15    Chevrolet  Lumina_APV      Van\n",
              "16    Chevrolet       Astro      Van\n",
              "17    Chevrolet     Caprice    Large\n",
              "18    Chevrolet    Corvette   Sporty\n",
              "19      missing    Concorde    Large"
            ]
          },
          "metadata": {
            "tags": []
          },
          "execution_count": 43
        }
      ]
    },
    {
      "cell_type": "code",
      "metadata": {
        "id": "42Fd7egzNSIi",
        "colab_type": "code",
        "outputId": "5e5671dc-43b7-413c-8ca0-73e6f927fa40",
        "colab": {
          "base_uri": "https://localhost:8080/",
          "height": 204
        }
      },
      "source": [
        "#Create a primary index  by combining relevant columns\n",
        "df.index = df.Manufacturer + '_' + df.Model + '_' + df.Type\n",
        "\n",
        "#Take a look at first five rows\n",
        "df.head(5)"
      ],
      "execution_count": 46,
      "outputs": [
        {
          "output_type": "execute_result",
          "data": {
            "text/html": [
              "<div>\n",
              "<style scoped>\n",
              "    .dataframe tbody tr th:only-of-type {\n",
              "        vertical-align: middle;\n",
              "    }\n",
              "\n",
              "    .dataframe tbody tr th {\n",
              "        vertical-align: top;\n",
              "    }\n",
              "\n",
              "    .dataframe thead th {\n",
              "        text-align: right;\n",
              "    }\n",
              "</style>\n",
              "<table border=\"1\" class=\"dataframe\">\n",
              "  <thead>\n",
              "    <tr style=\"text-align: right;\">\n",
              "      <th></th>\n",
              "      <th>Manufacturer</th>\n",
              "      <th>Model</th>\n",
              "      <th>Type</th>\n",
              "    </tr>\n",
              "  </thead>\n",
              "  <tbody>\n",
              "    <tr>\n",
              "      <th>Acura_Integra_Small</th>\n",
              "      <td>Acura</td>\n",
              "      <td>Integra</td>\n",
              "      <td>Small</td>\n",
              "    </tr>\n",
              "    <tr>\n",
              "      <th>missing_Legend_Midsize</th>\n",
              "      <td>missing</td>\n",
              "      <td>Legend</td>\n",
              "      <td>Midsize</td>\n",
              "    </tr>\n",
              "    <tr>\n",
              "      <th>Audi_90_Compact</th>\n",
              "      <td>Audi</td>\n",
              "      <td>90</td>\n",
              "      <td>Compact</td>\n",
              "    </tr>\n",
              "    <tr>\n",
              "      <th>Audi_100_Midsize</th>\n",
              "      <td>Audi</td>\n",
              "      <td>100</td>\n",
              "      <td>Midsize</td>\n",
              "    </tr>\n",
              "    <tr>\n",
              "      <th>BMW_535i_Midsize</th>\n",
              "      <td>BMW</td>\n",
              "      <td>535i</td>\n",
              "      <td>Midsize</td>\n",
              "    </tr>\n",
              "  </tbody>\n",
              "</table>\n",
              "</div>"
            ],
            "text/plain": [
              "                       Manufacturer    Model     Type\n",
              "Acura_Integra_Small           Acura  Integra    Small\n",
              "missing_Legend_Midsize      missing   Legend  Midsize\n",
              "Audi_90_Compact                Audi       90  Compact\n",
              "Audi_100_Midsize               Audi      100  Midsize\n",
              "BMW_535i_Midsize                BMW     535i  Midsize"
            ]
          },
          "metadata": {
            "tags": []
          },
          "execution_count": 46
        }
      ]
    },
    {
      "cell_type": "code",
      "metadata": {
        "id": "o5WFhqYpNs87",
        "colab_type": "code",
        "outputId": "5462cb9f-f6a7-48d5-c61d-cb0c85ccdf16",
        "colab": {
          "base_uri": "https://localhost:8080/",
          "height": 34
        }
      },
      "source": [
        "#Is index a primary key?\n",
        "df.index.is_unique"
      ],
      "execution_count": 45,
      "outputs": [
        {
          "output_type": "execute_result",
          "data": {
            "text/plain": [
              "True"
            ]
          },
          "metadata": {
            "tags": []
          },
          "execution_count": 45
        }
      ]
    }
  ]
}